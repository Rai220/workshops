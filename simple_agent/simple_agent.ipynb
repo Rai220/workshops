{
 "cells": [
  {
   "cell_type": "markdown",
   "id": "fb516153",
   "metadata": {},
   "source": [
    "# Настройка окружения"
   ]
  },
  {
   "cell_type": "code",
   "execution_count": 2,
   "id": "0d55a7fc",
   "metadata": {},
   "outputs": [
    {
     "name": "stdout",
     "output_type": "stream",
     "text": [
      "\n",
      "\u001b[1m[\u001b[0m\u001b[34;49mnotice\u001b[0m\u001b[1;39;49m]\u001b[0m\u001b[39;49m A new release of pip is available: \u001b[0m\u001b[31;49m24.3.1\u001b[0m\u001b[39;49m -> \u001b[0m\u001b[32;49m25.1.1\u001b[0m\n",
      "\u001b[1m[\u001b[0m\u001b[34;49mnotice\u001b[0m\u001b[1;39;49m]\u001b[0m\u001b[39;49m To update, run: \u001b[0m\u001b[32;49mpip install --upgrade pip\u001b[0m\n"
     ]
    }
   ],
   "source": [
    "!pip install gigachat -U -q"
   ]
  },
  {
   "cell_type": "code",
   "execution_count": 11,
   "id": "d1f99e00",
   "metadata": {},
   "outputs": [
    {
     "data": {
      "text/plain": [
       "True"
      ]
     },
     "execution_count": 11,
     "metadata": {},
     "output_type": "execute_result"
    }
   ],
   "source": [
    "from rich import print\n",
    "from dotenv import load_dotenv, find_dotenv\n",
    "load_dotenv(find_dotenv())"
   ]
  },
  {
   "cell_type": "markdown",
   "id": "895dca15",
   "metadata": {},
   "source": [
    "# Обращение к GigaChat"
   ]
  },
  {
   "cell_type": "code",
   "execution_count": 20,
   "id": "2eebc99c",
   "metadata": {},
   "outputs": [
    {
     "data": {
      "text/html": [
       "<pre style=\"white-space:pre;overflow-x:auto;line-height:normal;font-family:Menlo,'DejaVu Sans Mono',consolas,'Courier New',monospace\">Меня создала компания Sber в России в <span style=\"color: #008080; text-decoration-color: #008080; font-weight: bold\">2023</span> году.\n",
       "</pre>\n"
      ],
      "text/plain": [
       "Меня создала компания Sber в России в \u001b[1;36m2023\u001b[0m году.\n"
      ]
     },
     "metadata": {},
     "output_type": "display_data"
    }
   ],
   "source": [
    "from gigachat import GigaChat\n",
    "\n",
    "llm = GigaChat(model=\"GigaChat-2-Max\", profanity_check=False, timeout=120)\n",
    "resp = llm.chat(\"Кто тебя сделал?\")\n",
    "print(resp.choices[0].message.content)"
   ]
  },
  {
   "cell_type": "code",
   "execution_count": 21,
   "id": "a5734b26",
   "metadata": {},
   "outputs": [
    {
     "data": {
      "text/html": [
       "<pre style=\"white-space:pre;overflow-x:auto;line-height:normal;font-family:Menlo,'DejaVu Sans Mono',consolas,'Courier New',monospace\"><span style=\"color: #800080; text-decoration-color: #800080; font-weight: bold\">ChatCompletion</span><span style=\"font-weight: bold\">(</span>\n",
       "    <span style=\"color: #808000; text-decoration-color: #808000\">x_headers</span>=<span style=\"font-weight: bold\">{</span>\n",
       "        <span style=\"color: #008000; text-decoration-color: #008000\">'x-request-id'</span>: <span style=\"color: #008000; text-decoration-color: #008000\">'6411ff36-de8c-427b-a177-2b642511c58d'</span>,\n",
       "        <span style=\"color: #008000; text-decoration-color: #008000\">'x-session-id'</span>: <span style=\"color: #008000; text-decoration-color: #008000\">'8ff0b5a3-93b0-4bb9-ac88-739af0490b52'</span>,\n",
       "        <span style=\"color: #008000; text-decoration-color: #008000\">'x-client-id'</span>: <span style=\"color: #800080; text-decoration-color: #800080; font-style: italic\">None</span>\n",
       "    <span style=\"font-weight: bold\">}</span>,\n",
       "    <span style=\"color: #808000; text-decoration-color: #808000\">choices</span>=<span style=\"font-weight: bold\">[</span>\n",
       "        <span style=\"color: #800080; text-decoration-color: #800080; font-weight: bold\">Choices</span><span style=\"font-weight: bold\">(</span>\n",
       "            <span style=\"color: #808000; text-decoration-color: #808000\">message</span>=<span style=\"color: #800080; text-decoration-color: #800080; font-weight: bold\">Messages</span><span style=\"font-weight: bold\">(</span>\n",
       "                <span style=\"color: #808000; text-decoration-color: #808000\">role</span>=<span style=\"color: #008000; text-decoration-color: #008000\">'assistant'</span>,\n",
       "                <span style=\"color: #808000; text-decoration-color: #808000\">content</span>=<span style=\"color: #008000; text-decoration-color: #008000\">'Меня создала компания Sber в России в 2023 году.'</span>,\n",
       "                <span style=\"color: #808000; text-decoration-color: #808000\">function_call</span>=<span style=\"color: #800080; text-decoration-color: #800080; font-style: italic\">None</span>,\n",
       "                <span style=\"color: #808000; text-decoration-color: #808000\">name</span>=<span style=\"color: #800080; text-decoration-color: #800080; font-style: italic\">None</span>,\n",
       "                <span style=\"color: #808000; text-decoration-color: #808000\">attachments</span>=<span style=\"color: #800080; text-decoration-color: #800080; font-style: italic\">None</span>,\n",
       "                <span style=\"color: #808000; text-decoration-color: #808000\">data_for_context</span>=<span style=\"color: #800080; text-decoration-color: #800080; font-style: italic\">None</span>,\n",
       "                <span style=\"color: #808000; text-decoration-color: #808000\">functions_state_id</span>=<span style=\"color: #800080; text-decoration-color: #800080; font-style: italic\">None</span>,\n",
       "                <span style=\"color: #808000; text-decoration-color: #808000\">id_</span>=<span style=\"color: #800080; text-decoration-color: #800080; font-style: italic\">None</span>\n",
       "            <span style=\"font-weight: bold\">)</span>,\n",
       "            <span style=\"color: #808000; text-decoration-color: #808000\">index</span>=<span style=\"color: #008080; text-decoration-color: #008080; font-weight: bold\">0</span>,\n",
       "            <span style=\"color: #808000; text-decoration-color: #808000\">finish_reason</span>=<span style=\"color: #008000; text-decoration-color: #008000\">'stop'</span>\n",
       "        <span style=\"font-weight: bold\">)</span>\n",
       "    <span style=\"font-weight: bold\">]</span>,\n",
       "    <span style=\"color: #808000; text-decoration-color: #808000\">created</span>=<span style=\"color: #008080; text-decoration-color: #008080; font-weight: bold\">1750249764</span>,\n",
       "    <span style=\"color: #808000; text-decoration-color: #808000\">model</span>=<span style=\"color: #008000; text-decoration-color: #008000\">'GigaChat-2-Max:2.0.28.02'</span>,\n",
       "    <span style=\"color: #808000; text-decoration-color: #808000\">thread_id</span>=<span style=\"color: #800080; text-decoration-color: #800080; font-style: italic\">None</span>,\n",
       "    <span style=\"color: #808000; text-decoration-color: #808000\">message_id</span>=<span style=\"color: #800080; text-decoration-color: #800080; font-style: italic\">None</span>,\n",
       "    <span style=\"color: #808000; text-decoration-color: #808000\">usage</span>=<span style=\"color: #800080; text-decoration-color: #800080; font-weight: bold\">Usage</span><span style=\"font-weight: bold\">(</span><span style=\"color: #808000; text-decoration-color: #808000\">prompt_tokens</span>=<span style=\"color: #008080; text-decoration-color: #008080; font-weight: bold\">1</span>, <span style=\"color: #808000; text-decoration-color: #808000\">completion_tokens</span>=<span style=\"color: #008080; text-decoration-color: #008080; font-weight: bold\">17</span>, <span style=\"color: #808000; text-decoration-color: #808000\">total_tokens</span>=<span style=\"color: #008080; text-decoration-color: #008080; font-weight: bold\">18</span>, <span style=\"color: #808000; text-decoration-color: #808000\">precached_prompt_tokens</span>=<span style=\"color: #008080; text-decoration-color: #008080; font-weight: bold\">15</span><span style=\"font-weight: bold\">)</span>,\n",
       "    <span style=\"color: #808000; text-decoration-color: #808000\">object_</span>=<span style=\"color: #008000; text-decoration-color: #008000\">'chat.completion'</span>\n",
       "<span style=\"font-weight: bold\">)</span>\n",
       "</pre>\n"
      ],
      "text/plain": [
       "\u001b[1;35mChatCompletion\u001b[0m\u001b[1m(\u001b[0m\n",
       "    \u001b[33mx_headers\u001b[0m=\u001b[1m{\u001b[0m\n",
       "        \u001b[32m'x-request-id'\u001b[0m: \u001b[32m'6411ff36-de8c-427b-a177-2b642511c58d'\u001b[0m,\n",
       "        \u001b[32m'x-session-id'\u001b[0m: \u001b[32m'8ff0b5a3-93b0-4bb9-ac88-739af0490b52'\u001b[0m,\n",
       "        \u001b[32m'x-client-id'\u001b[0m: \u001b[3;35mNone\u001b[0m\n",
       "    \u001b[1m}\u001b[0m,\n",
       "    \u001b[33mchoices\u001b[0m=\u001b[1m[\u001b[0m\n",
       "        \u001b[1;35mChoices\u001b[0m\u001b[1m(\u001b[0m\n",
       "            \u001b[33mmessage\u001b[0m=\u001b[1;35mMessages\u001b[0m\u001b[1m(\u001b[0m\n",
       "                \u001b[33mrole\u001b[0m=\u001b[32m'assistant'\u001b[0m,\n",
       "                \u001b[33mcontent\u001b[0m=\u001b[32m'Меня создала компания Sber в России в 2023 году.'\u001b[0m,\n",
       "                \u001b[33mfunction_call\u001b[0m=\u001b[3;35mNone\u001b[0m,\n",
       "                \u001b[33mname\u001b[0m=\u001b[3;35mNone\u001b[0m,\n",
       "                \u001b[33mattachments\u001b[0m=\u001b[3;35mNone\u001b[0m,\n",
       "                \u001b[33mdata_for_context\u001b[0m=\u001b[3;35mNone\u001b[0m,\n",
       "                \u001b[33mfunctions_state_id\u001b[0m=\u001b[3;35mNone\u001b[0m,\n",
       "                \u001b[33mid_\u001b[0m=\u001b[3;35mNone\u001b[0m\n",
       "            \u001b[1m)\u001b[0m,\n",
       "            \u001b[33mindex\u001b[0m=\u001b[1;36m0\u001b[0m,\n",
       "            \u001b[33mfinish_reason\u001b[0m=\u001b[32m'stop'\u001b[0m\n",
       "        \u001b[1m)\u001b[0m\n",
       "    \u001b[1m]\u001b[0m,\n",
       "    \u001b[33mcreated\u001b[0m=\u001b[1;36m1750249764\u001b[0m,\n",
       "    \u001b[33mmodel\u001b[0m=\u001b[32m'GigaChat-2-Max:2.0.28.02'\u001b[0m,\n",
       "    \u001b[33mthread_id\u001b[0m=\u001b[3;35mNone\u001b[0m,\n",
       "    \u001b[33mmessage_id\u001b[0m=\u001b[3;35mNone\u001b[0m,\n",
       "    \u001b[33musage\u001b[0m=\u001b[1;35mUsage\u001b[0m\u001b[1m(\u001b[0m\u001b[33mprompt_tokens\u001b[0m=\u001b[1;36m1\u001b[0m, \u001b[33mcompletion_tokens\u001b[0m=\u001b[1;36m17\u001b[0m, \u001b[33mtotal_tokens\u001b[0m=\u001b[1;36m18\u001b[0m, \u001b[33mprecached_prompt_tokens\u001b[0m=\u001b[1;36m15\u001b[0m\u001b[1m)\u001b[0m,\n",
       "    \u001b[33mobject_\u001b[0m=\u001b[32m'chat.completion'\u001b[0m\n",
       "\u001b[1m)\u001b[0m\n"
      ]
     },
     "metadata": {},
     "output_type": "display_data"
    }
   ],
   "source": [
    "print(resp)"
   ]
  },
  {
   "cell_type": "markdown",
   "id": "ee512946",
   "metadata": {},
   "source": [
    "# Чат-бот без памяти"
   ]
  },
  {
   "cell_type": "code",
   "execution_count": 24,
   "id": "c4213a7b",
   "metadata": {},
   "outputs": [
    {
     "data": {
      "text/html": [
       "<pre style=\"white-space:pre;overflow-x:auto;line-height:normal;font-family:Menlo,'DejaVu Sans Mono',consolas,'Courier New',monospace\">User: Привет\n",
       "</pre>\n"
      ],
      "text/plain": [
       "User: Привет\n"
      ]
     },
     "metadata": {},
     "output_type": "display_data"
    },
    {
     "data": {
      "text/html": [
       "<pre style=\"white-space:pre;overflow-x:auto;line-height:normal;font-family:Menlo,'DejaVu Sans Mono',consolas,'Courier New',monospace\">Giga: Привет!\n",
       "</pre>\n"
      ],
      "text/plain": [
       "Giga: Привет!\n"
      ]
     },
     "metadata": {},
     "output_type": "display_data"
    },
    {
     "data": {
      "text/html": [
       "<pre style=\"white-space:pre;overflow-x:auto;line-height:normal;font-family:Menlo,'DejaVu Sans Mono',consolas,'Courier New',monospace\">User: Меня зовут Константин\n",
       "</pre>\n"
      ],
      "text/plain": [
       "User: Меня зовут Константин\n"
      ]
     },
     "metadata": {},
     "output_type": "display_data"
    },
    {
     "data": {
      "text/html": [
       "<pre style=\"white-space:pre;overflow-x:auto;line-height:normal;font-family:Menlo,'DejaVu Sans Mono',consolas,'Courier New',monospace\">Giga: Приятно познакомиться, Константин! Чем займёмся?\n",
       "</pre>\n"
      ],
      "text/plain": [
       "Giga: Приятно познакомиться, Константин! Чем займёмся?\n"
      ]
     },
     "metadata": {},
     "output_type": "display_data"
    },
    {
     "data": {
      "text/html": [
       "<pre style=\"white-space:pre;overflow-x:auto;line-height:normal;font-family:Menlo,'DejaVu Sans Mono',consolas,'Courier New',monospace\">User: Как меня зовут?\n",
       "</pre>\n"
      ],
      "text/plain": [
       "User: Как меня зовут?\n"
      ]
     },
     "metadata": {},
     "output_type": "display_data"
    },
    {
     "data": {
      "text/html": [
       "<pre style=\"white-space:pre;overflow-x:auto;line-height:normal;font-family:Menlo,'DejaVu Sans Mono',consolas,'Courier New',monospace\">Giga: Ты не <span style=\"color: #800080; text-decoration-color: #800080; font-weight: bold\">представился</span><span style=\"font-weight: bold\">(</span>лась<span style=\"font-weight: bold\">)</span>, поэтому я пока не знаю твоего имени. Скажи, как тебя зовут!\n",
       "</pre>\n"
      ],
      "text/plain": [
       "Giga: Ты не \u001b[1;35mпредставился\u001b[0m\u001b[1m(\u001b[0mлась\u001b[1m)\u001b[0m, поэтому я пока не знаю твоего имени. Скажи, как тебя зовут!\n"
      ]
     },
     "metadata": {},
     "output_type": "display_data"
    }
   ],
   "source": [
    "while True:\n",
    "    q = input(\"User: \")\n",
    "    if q == \"\":\n",
    "        break\n",
    "    print(f\"User: {q}\")\n",
    "    resp = llm.chat(q)\n",
    "    print(f\"Giga: {resp.choices[0].message.content}\")"
   ]
  },
  {
   "cell_type": "markdown",
   "id": "24d086ba",
   "metadata": {},
   "source": [
    "# Чат-бот с памятью"
   ]
  },
  {
   "cell_type": "code",
   "execution_count": null,
   "id": "45357d8a",
   "metadata": {},
   "outputs": [
    {
     "data": {
      "text/html": [
       "<pre style=\"white-space:pre;overflow-x:auto;line-height:normal;font-family:Menlo,'DejaVu Sans Mono',consolas,'Courier New',monospace\">User: Привет!\n",
       "</pre>\n"
      ],
      "text/plain": [
       "User: Привет!\n"
      ]
     },
     "metadata": {},
     "output_type": "display_data"
    },
    {
     "data": {
      "text/html": [
       "<pre style=\"white-space:pre;overflow-x:auto;line-height:normal;font-family:Menlo,'DejaVu Sans Mono',consolas,'Courier New',monospace\">Giga: Привет! Как настроение?\n",
       "</pre>\n"
      ],
      "text/plain": [
       "Giga: Привет! Как настроение?\n"
      ]
     },
     "metadata": {},
     "output_type": "display_data"
    },
    {
     "data": {
      "text/html": [
       "<pre style=\"white-space:pre;overflow-x:auto;line-height:normal;font-family:Menlo,'DejaVu Sans Mono',consolas,'Courier New',monospace\">User: Меня зовут Константин\n",
       "</pre>\n"
      ],
      "text/plain": [
       "User: Меня зовут Константин\n"
      ]
     },
     "metadata": {},
     "output_type": "display_data"
    },
    {
     "data": {
      "text/html": [
       "<pre style=\"white-space:pre;overflow-x:auto;line-height:normal;font-family:Menlo,'DejaVu Sans Mono',consolas,'Courier New',monospace\">Giga: Приятно познакомиться, Константин! Чем займёмся?\n",
       "</pre>\n"
      ],
      "text/plain": [
       "Giga: Приятно познакомиться, Константин! Чем займёмся?\n"
      ]
     },
     "metadata": {},
     "output_type": "display_data"
    },
    {
     "data": {
      "text/html": [
       "<pre style=\"white-space:pre;overflow-x:auto;line-height:normal;font-family:Menlo,'DejaVu Sans Mono',consolas,'Courier New',monospace\">User: Как меня зовут?\n",
       "</pre>\n"
      ],
      "text/plain": [
       "User: Как меня зовут?\n"
      ]
     },
     "metadata": {},
     "output_type": "display_data"
    },
    {
     "data": {
      "text/html": [
       "<pre style=\"white-space:pre;overflow-x:auto;line-height:normal;font-family:Menlo,'DejaVu Sans Mono',consolas,'Courier New',monospace\">Giga: Тебя зовут Константин.\n",
       "</pre>\n"
      ],
      "text/plain": [
       "Giga: Тебя зовут Константин.\n"
      ]
     },
     "metadata": {},
     "output_type": "display_data"
    },
    {
     "data": {
      "text/html": [
       "<pre style=\"white-space:pre;overflow-x:auto;line-height:normal;font-family:Menlo,'DejaVu Sans Mono',consolas,'Courier New',monospace\">User: Что ты только что сказал?\n",
       "</pre>\n"
      ],
      "text/plain": [
       "User: Что ты только что сказал?\n"
      ]
     },
     "metadata": {},
     "output_type": "display_data"
    },
    {
     "data": {
      "text/html": [
       "<pre style=\"white-space:pre;overflow-x:auto;line-height:normal;font-family:Menlo,'DejaVu Sans Mono',consolas,'Courier New',monospace\">Giga: Только что я подтвердил твоё имя — тебя действительно зовут Константин.\n",
       "</pre>\n"
      ],
      "text/plain": [
       "Giga: Только что я подтвердил твоё имя — тебя действительно зовут Константин.\n"
      ]
     },
     "metadata": {},
     "output_type": "display_data"
    }
   ],
   "source": [
    "from gigachat.models import Messages, MessagesRole, Chat\n",
    "\n",
    "messages = []  # История сообщений\n",
    "\n",
    "while True:\n",
    "    q = input(\"User: \")\n",
    "    if q == \"\":\n",
    "        break\n",
    "    print(f\"User: {q}\")\n",
    "    messages.append(Messages(role=MessagesRole.USER, content=q))\n",
    "    answer = llm.chat(Chat(messages=messages)).choices[0].message\n",
    "    print(f\"Giga: {answer.content}\")\n",
    "    messages.append(answer)"
   ]
  },
  {
   "cell_type": "markdown",
   "id": "085d5fe3",
   "metadata": {},
   "source": [
    "# Вызов функции моделью"
   ]
  },
  {
   "cell_type": "markdown",
   "id": "10dc2527",
   "metadata": {},
   "source": [
    "## 1. Обращение к модели с функцией поиска"
   ]
  },
  {
   "cell_type": "code",
   "execution_count": 59,
   "id": "318fef09",
   "metadata": {},
   "outputs": [
    {
     "data": {
      "text/html": [
       "<pre style=\"white-space:pre;overflow-x:auto;line-height:normal;font-family:Menlo,'DejaVu Sans Mono',consolas,'Courier New',monospace\"><span style=\"color: #800080; text-decoration-color: #800080; font-weight: bold\">Messages</span><span style=\"font-weight: bold\">(</span>\n",
       "    <span style=\"color: #808000; text-decoration-color: #808000\">role</span>=<span style=\"color: #008000; text-decoration-color: #008000\">'assistant'</span>,\n",
       "    <span style=\"color: #808000; text-decoration-color: #808000\">content</span>=<span style=\"color: #008000; text-decoration-color: #008000\">''</span>,\n",
       "    <span style=\"color: #808000; text-decoration-color: #808000\">function_call</span>=<span style=\"color: #800080; text-decoration-color: #800080; font-weight: bold\">FunctionCall</span><span style=\"font-weight: bold\">(</span><span style=\"color: #808000; text-decoration-color: #808000\">name</span>=<span style=\"color: #008000; text-decoration-color: #008000\">'search'</span>, <span style=\"color: #808000; text-decoration-color: #808000\">arguments</span>=<span style=\"font-weight: bold\">{</span><span style=\"color: #008000; text-decoration-color: #008000\">'query'</span>: <span style=\"color: #008000; text-decoration-color: #008000\">'самая дорогая компания в мире в 2025'</span><span style=\"font-weight: bold\">})</span>,\n",
       "    <span style=\"color: #808000; text-decoration-color: #808000\">name</span>=<span style=\"color: #800080; text-decoration-color: #800080; font-style: italic\">None</span>,\n",
       "    <span style=\"color: #808000; text-decoration-color: #808000\">attachments</span>=<span style=\"color: #800080; text-decoration-color: #800080; font-style: italic\">None</span>,\n",
       "    <span style=\"color: #808000; text-decoration-color: #808000\">data_for_context</span>=<span style=\"color: #800080; text-decoration-color: #800080; font-style: italic\">None</span>,\n",
       "    <span style=\"color: #808000; text-decoration-color: #808000\">functions_state_id</span>=<span style=\"color: #008000; text-decoration-color: #008000\">'4a5d4179-781c-4d04-b050-21494c6f0c80'</span>,\n",
       "    <span style=\"color: #808000; text-decoration-color: #808000\">id_</span>=<span style=\"color: #800080; text-decoration-color: #800080; font-style: italic\">None</span>\n",
       "<span style=\"font-weight: bold\">)</span>\n",
       "</pre>\n"
      ],
      "text/plain": [
       "\u001b[1;35mMessages\u001b[0m\u001b[1m(\u001b[0m\n",
       "    \u001b[33mrole\u001b[0m=\u001b[32m'assistant'\u001b[0m,\n",
       "    \u001b[33mcontent\u001b[0m=\u001b[32m''\u001b[0m,\n",
       "    \u001b[33mfunction_call\u001b[0m=\u001b[1;35mFunctionCall\u001b[0m\u001b[1m(\u001b[0m\u001b[33mname\u001b[0m=\u001b[32m'search'\u001b[0m, \u001b[33marguments\u001b[0m=\u001b[1m{\u001b[0m\u001b[32m'query'\u001b[0m: \u001b[32m'самая дорогая компания в мире в 2025'\u001b[0m\u001b[1m}\u001b[0m\u001b[1m)\u001b[0m,\n",
       "    \u001b[33mname\u001b[0m=\u001b[3;35mNone\u001b[0m,\n",
       "    \u001b[33mattachments\u001b[0m=\u001b[3;35mNone\u001b[0m,\n",
       "    \u001b[33mdata_for_context\u001b[0m=\u001b[3;35mNone\u001b[0m,\n",
       "    \u001b[33mfunctions_state_id\u001b[0m=\u001b[32m'4a5d4179-781c-4d04-b050-21494c6f0c80'\u001b[0m,\n",
       "    \u001b[33mid_\u001b[0m=\u001b[3;35mNone\u001b[0m\n",
       "\u001b[1m)\u001b[0m\n"
      ]
     },
     "metadata": {},
     "output_type": "display_data"
    }
   ],
   "source": [
    "from gigachat.models import Function, FunctionParameters\n",
    "\n",
    "search = Function(\n",
    "        name=\"search\",\n",
    "        description=\"\"\"Выполняет поиск в интернете.\"\"\",\n",
    "        parameters=FunctionParameters(\n",
    "            type=\"object\",\n",
    "            properties={\"query\": {\"type\": \"string\", \"description\": \"Поисковый запрос\"}},\n",
    "            required=[\"query\"],\n",
    "        ),\n",
    "    )\n",
    "\n",
    "messages = [\n",
    "    Messages(role=MessagesRole.USER, content=\"Какая самая дорогая компания в мире в 2025?\")\n",
    "]\n",
    "\n",
    "resp = llm.chat(Chat(messages=messages, functions=[search])).choices[0].message\n",
    "messages.append(resp)\n",
    "print(resp)"
   ]
  },
  {
   "cell_type": "markdown",
   "id": "60a61324",
   "metadata": {},
   "source": [
    "## 2. Обработка ответа модели"
   ]
  },
  {
   "cell_type": "code",
   "execution_count": 60,
   "id": "b04d78b3",
   "metadata": {},
   "outputs": [
    {
     "data": {
      "text/html": [
       "<pre style=\"white-space:pre;overflow-x:auto;line-height:normal;font-family:Menlo,'DejaVu Sans Mono',consolas,'Courier New',monospace\">&gt;&gt; my_search_function called with query: самая дорогая компания в мире в <span style=\"color: #008080; text-decoration-color: #008080; font-weight: bold\">2025</span>\n",
       "</pre>\n"
      ],
      "text/plain": [
       ">> my_search_function called with query: самая дорогая компания в мире в \u001b[1;36m2025\u001b[0m\n"
      ]
     },
     "metadata": {},
     "output_type": "display_data"
    }
   ],
   "source": [
    "def my_search_function(query: str):\n",
    "    print(f\">> my_search_function called with query: {query}\")\n",
    "    return \"Самая дорогая компания в мире в 2025 - компания XYZ с капитализацией 3 триллиона долларов.\"\n",
    "\n",
    "func_result = None\n",
    "\n",
    "if resp.function_call:\n",
    "    name = resp.function_call.name\n",
    "    if name == 'search':\n",
    "        query = resp.function_call.arguments['query']\n",
    "        func_result = my_search_function(query)\n"
   ]
  },
  {
   "cell_type": "markdown",
   "id": "33b1933f",
   "metadata": {},
   "source": [
    "## 3. Возвращаем модели результаты поиска"
   ]
  },
  {
   "cell_type": "code",
   "execution_count": 61,
   "id": "a0323d55",
   "metadata": {},
   "outputs": [],
   "source": [
    "import json\n",
    "\n",
    "messages.append(Messages(role=MessagesRole.FUNCTION,\n",
    "                         content=json.dumps({\"result\": func_result}, ensure_ascii=False)))"
   ]
  },
  {
   "cell_type": "code",
   "execution_count": 62,
   "id": "7e2722c5",
   "metadata": {},
   "outputs": [
    {
     "data": {
      "text/html": [
       "<pre style=\"white-space:pre;overflow-x:auto;line-height:normal;font-family:Menlo,'DejaVu Sans Mono',consolas,'Courier New',monospace\"><span style=\"color: #800080; text-decoration-color: #800080; font-weight: bold\">Messages</span><span style=\"font-weight: bold\">(</span>\n",
       "    <span style=\"color: #808000; text-decoration-color: #808000\">role</span>=<span style=\"color: #008000; text-decoration-color: #008000\">'assistant'</span>,\n",
       "    <span style=\"color: #808000; text-decoration-color: #808000\">content</span>=<span style=\"color: #008000; text-decoration-color: #008000\">'На данный момент самой дорогой компанией в мире считается **XYZ**, чья рыночная капитализация достигла</span>\n",
       "<span style=\"color: #008000; text-decoration-color: #008000\">отметки в **3 триллиона долларов** (по состоянию на 2025 год). \\n\\nЭта информация основана на актуальных данных, </span>\n",
       "<span style=\"color: #008000; text-decoration-color: #008000\">однако стоит учитывать, что ситуация на рынке меняется ежедневно, и лидерство среди компаний также может </span>\n",
       "<span style=\"color: #008000; text-decoration-color: #008000\">варьироваться в зависимости от экономических условий и успехов отдельных корпораций.'</span>,\n",
       "    <span style=\"color: #808000; text-decoration-color: #808000\">function_call</span>=<span style=\"color: #800080; text-decoration-color: #800080; font-style: italic\">None</span>,\n",
       "    <span style=\"color: #808000; text-decoration-color: #808000\">name</span>=<span style=\"color: #800080; text-decoration-color: #800080; font-style: italic\">None</span>,\n",
       "    <span style=\"color: #808000; text-decoration-color: #808000\">attachments</span>=<span style=\"color: #800080; text-decoration-color: #800080; font-style: italic\">None</span>,\n",
       "    <span style=\"color: #808000; text-decoration-color: #808000\">data_for_context</span>=<span style=\"color: #800080; text-decoration-color: #800080; font-style: italic\">None</span>,\n",
       "    <span style=\"color: #808000; text-decoration-color: #808000\">functions_state_id</span>=<span style=\"color: #008000; text-decoration-color: #008000\">'c4618783-9661-4203-ad75-4565fc5ff47f'</span>,\n",
       "    <span style=\"color: #808000; text-decoration-color: #808000\">id_</span>=<span style=\"color: #800080; text-decoration-color: #800080; font-style: italic\">None</span>\n",
       "<span style=\"font-weight: bold\">)</span>\n",
       "</pre>\n"
      ],
      "text/plain": [
       "\u001b[1;35mMessages\u001b[0m\u001b[1m(\u001b[0m\n",
       "    \u001b[33mrole\u001b[0m=\u001b[32m'assistant'\u001b[0m,\n",
       "    \u001b[33mcontent\u001b[0m=\u001b[32m'На данный момент самой дорогой компанией в мире считается **XYZ**, чья рыночная капитализация достигла\u001b[0m\n",
       "\u001b[32mотметки в **3 триллиона долларов** \u001b[0m\u001b[32m(\u001b[0m\u001b[32mпо состоянию на 2025 год\u001b[0m\u001b[32m)\u001b[0m\u001b[32m. \\n\\nЭта информация основана на актуальных данных, \u001b[0m\n",
       "\u001b[32mоднако стоит учитывать, что ситуация на рынке меняется ежедневно, и лидерство среди компаний также может \u001b[0m\n",
       "\u001b[32mварьироваться в зависимости от экономических условий и успехов отдельных корпораций.'\u001b[0m,\n",
       "    \u001b[33mfunction_call\u001b[0m=\u001b[3;35mNone\u001b[0m,\n",
       "    \u001b[33mname\u001b[0m=\u001b[3;35mNone\u001b[0m,\n",
       "    \u001b[33mattachments\u001b[0m=\u001b[3;35mNone\u001b[0m,\n",
       "    \u001b[33mdata_for_context\u001b[0m=\u001b[3;35mNone\u001b[0m,\n",
       "    \u001b[33mfunctions_state_id\u001b[0m=\u001b[32m'c4618783-9661-4203-ad75-4565fc5ff47f'\u001b[0m,\n",
       "    \u001b[33mid_\u001b[0m=\u001b[3;35mNone\u001b[0m\n",
       "\u001b[1m)\u001b[0m\n"
      ]
     },
     "metadata": {},
     "output_type": "display_data"
    }
   ],
   "source": [
    "resp = llm.chat(Chat(messages=messages, functions=[search])).choices[0].message\n",
    "print(resp)"
   ]
  },
  {
   "cell_type": "markdown",
   "id": "31d2bf77",
   "metadata": {},
   "source": [
    "# Собираем все в полноценного агента"
   ]
  },
  {
   "cell_type": "markdown",
   "id": "7f05d5a3",
   "metadata": {},
   "source": [
    "## 1. Настоящий поиск в интернете"
   ]
  },
  {
   "cell_type": "code",
   "execution_count": 63,
   "id": "b94ac746",
   "metadata": {},
   "outputs": [
    {
     "name": "stderr",
     "output_type": "stream",
     "text": [
      "2289.69s - pydevd: Sending message related to process being replaced timed-out after 5 seconds\n"
     ]
    },
    {
     "name": "stdout",
     "output_type": "stream",
     "text": [
      "\n",
      "\u001b[1m[\u001b[0m\u001b[34;49mnotice\u001b[0m\u001b[1;39;49m]\u001b[0m\u001b[39;49m A new release of pip is available: \u001b[0m\u001b[31;49m24.3.1\u001b[0m\u001b[39;49m -> \u001b[0m\u001b[32;49m25.1.1\u001b[0m\n",
      "\u001b[1m[\u001b[0m\u001b[34;49mnotice\u001b[0m\u001b[1;39;49m]\u001b[0m\u001b[39;49m To update, run: \u001b[0m\u001b[32;49mpip install --upgrade pip\u001b[0m\n"
     ]
    }
   ],
   "source": [
    "!pip install duckduckgo_search -q -U"
   ]
  },
  {
   "cell_type": "code",
   "execution_count": 70,
   "id": "b4b0e0dd",
   "metadata": {},
   "outputs": [],
   "source": [
    "from langchain_community.tools.ddg_search.tool import DuckDuckGoSearchRun\n",
    "\n",
    "def my_search_function(query: str):\n",
    "    print(f\">> my_search_function called with query: {query}\")\n",
    "    return DuckDuckGoSearchRun().run(query)"
   ]
  },
  {
   "cell_type": "markdown",
   "id": "ac76b3fa",
   "metadata": {},
   "source": [
    "## 2. Агентный цикл"
   ]
  },
  {
   "cell_type": "code",
   "execution_count": 78,
   "id": "55334b91",
   "metadata": {},
   "outputs": [
    {
     "data": {
      "text/html": [
       "<pre style=\"white-space:pre;overflow-x:auto;line-height:normal;font-family:Menlo,'DejaVu Sans Mono',consolas,'Courier New',monospace\">User: Какая погода будет в августе во Владивастоке?\n",
       "</pre>\n"
      ],
      "text/plain": [
       "User: Какая погода будет в августе во Владивастоке?\n"
      ]
     },
     "metadata": {},
     "output_type": "display_data"
    },
    {
     "data": {
      "text/html": [
       "<pre style=\"white-space:pre;overflow-x:auto;line-height:normal;font-family:Menlo,'DejaVu Sans Mono',consolas,'Courier New',monospace\">&gt;&gt; my_search_function called with query: погода во Владивостоке в августе <span style=\"color: #008080; text-decoration-color: #008080; font-weight: bold\">2023</span>\n",
       "</pre>\n"
      ],
      "text/plain": [
       ">> my_search_function called with query: погода во Владивостоке в августе \u001b[1;36m2023\u001b[0m\n"
      ]
     },
     "metadata": {},
     "output_type": "display_data"
    },
    {
     "data": {
      "text/html": [
       "<pre style=\"white-space:pre;overflow-x:auto;line-height:normal;font-family:Menlo,'DejaVu Sans Mono',consolas,'Courier New',monospace\">Function result: Погода во Владивостоке в августе 🌡️. Долгосрочный прогноз погоды во Владивостоке, Приморский край,\n",
       "Р<span style=\"color: #808000; text-decoration-color: #808000\">...</span>\n",
       "</pre>\n"
      ],
      "text/plain": [
       "Function result: Погода во Владивостоке в августе 🌡️. Долгосрочный прогноз погоды во Владивостоке, Приморский край,\n",
       "Р\u001b[33m...\u001b[0m\n"
      ]
     },
     "metadata": {},
     "output_type": "display_data"
    },
    {
     "data": {
      "text/html": [
       "<pre style=\"white-space:pre;overflow-x:auto;line-height:normal;font-family:Menlo,'DejaVu Sans Mono',consolas,'Courier New',monospace\">Giga: Во Владивостоке в августе ожидается достаточно тёплая и преимущественно сухая погода:\n",
       "\n",
       "- **Дневная температура**: около +<span style=\"color: #008080; text-decoration-color: #008080; font-weight: bold\">25</span>°C <span style=\"font-weight: bold\">(</span>иногда поднимается до +<span style=\"color: #008080; text-decoration-color: #008080; font-weight: bold\">35</span>°C<span style=\"font-weight: bold\">)</span>.\n",
       "- Количество осадков ниже среднего уровня, преобладают солнечные дни.\n",
       "- Возможны отдельные кратковременные дожди и ветер.\n",
       "\n",
       "Температура моря прогревается примерно до +<span style=\"color: #008080; text-decoration-color: #008080; font-weight: bold\">24</span><span style=\"color: #808000; text-decoration-color: #808000\">...</span>+<span style=\"color: #008080; text-decoration-color: #008080; font-weight: bold\">26</span>°C, делая этот период идеальным для отдыха на побережье. Однако \n",
       "стоит учитывать вероятность отдельных неблагоприятных явлений вроде сильных ветров или ливней, особенно ближе к \n",
       "концу месяца.\n",
       "</pre>\n"
      ],
      "text/plain": [
       "Giga: Во Владивостоке в августе ожидается достаточно тёплая и преимущественно сухая погода:\n",
       "\n",
       "- **Дневная температура**: около +\u001b[1;36m25\u001b[0m°C \u001b[1m(\u001b[0mиногда поднимается до +\u001b[1;36m35\u001b[0m°C\u001b[1m)\u001b[0m.\n",
       "- Количество осадков ниже среднего уровня, преобладают солнечные дни.\n",
       "- Возможны отдельные кратковременные дожди и ветер.\n",
       "\n",
       "Температура моря прогревается примерно до +\u001b[1;36m24\u001b[0m\u001b[33m...\u001b[0m+\u001b[1;36m26\u001b[0m°C, делая этот период идеальным для отдыха на побережье. Однако \n",
       "стоит учитывать вероятность отдельных неблагоприятных явлений вроде сильных ветров или ливней, особенно ближе к \n",
       "концу месяца.\n"
      ]
     },
     "metadata": {},
     "output_type": "display_data"
    }
   ],
   "source": [
    "def run_agent(functions):\n",
    "    messages = []  # История сообщений\n",
    "    func_result = None\n",
    "    \n",
    "    while True:\n",
    "        if func_result:\n",
    "            print(f\"Function result: {func_result[0:100]}...\")\n",
    "            messages.append(Messages(\n",
    "                role=MessagesRole.FUNCTION, \n",
    "                content=json.dumps({\"result\": func_result}, ensure_ascii=False)))\n",
    "            func_result = None\n",
    "        else:\n",
    "            q = input(\"User: \")\n",
    "            if q == \"\":\n",
    "                break\n",
    "            print(f\"User: {q}\")\n",
    "            messages.append(Messages(role=MessagesRole.USER, content=q))\n",
    "            \n",
    "        resp = llm.chat(Chat(messages=messages, functions=functions)).choices[0].message\n",
    "        messages.append(resp)\n",
    "\n",
    "        if resp.function_call:\n",
    "            name = resp.function_call.name\n",
    "            if name == 'search':\n",
    "                query = resp.function_call.arguments['query']\n",
    "                func_result = my_search_function(query)\n",
    "            else:\n",
    "                raise ValueError(f\"Unknown function call: {name}\")\n",
    "        else:    \n",
    "            print(f\"Giga: {resp.content}\")\n",
    "            \n",
    "run_agent(functions=[search])"
   ]
  }
 ],
 "metadata": {
  "kernelspec": {
   "display_name": ".venv",
   "language": "python",
   "name": "python3"
  },
  "language_info": {
   "codemirror_mode": {
    "name": "ipython",
    "version": 3
   },
   "file_extension": ".py",
   "mimetype": "text/x-python",
   "name": "python",
   "nbconvert_exporter": "python",
   "pygments_lexer": "ipython3",
   "version": "3.13.2"
  }
 },
 "nbformat": 4,
 "nbformat_minor": 5
}
